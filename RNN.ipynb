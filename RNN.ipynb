{
  "cells": [
    {
      "cell_type": "code",
      "execution_count": null,
      "metadata": {
        "id": "0bCZYvOesNaC"
      },
      "outputs": [],
      "source": [
        "from pathlib import Path\n",
        "import urllib.request\n",
        "import tarfile\n",
        "import torch\n",
        "import torchaudio\n",
        "from tqdm import tqdm\n",
        "import torch.nn.functional as F\n",
        "from torch.utils.data import DataLoader, TensorDataset\n",
        "import torch.nn as nn\n",
        "import torch.optim as optim\n",
        "import matplotlib.pyplot as plt"
      ]
    },
    {
      "cell_type": "code",
      "execution_count": null,
      "metadata": {
        "colab": {
          "base_uri": "https://localhost:8080/"
        },
        "id": "sKLWoZfqzonf",
        "outputId": "46049e67-3a87-4fd9-bd6d-99fef3ffce63"
      },
      "outputs": [
        {
          "output_type": "stream",
          "name": "stdout",
          "text": [
            "Mounted at /content/drive\n"
          ]
        }
      ],
      "source": [
        "from google.colab import drive\n",
        "drive.mount('/content/drive')"
      ]
    },
    {
      "cell_type": "code",
      "execution_count": null,
      "metadata": {
        "colab": {
          "base_uri": "https://localhost:8080/"
        },
        "id": "C9iRp0_hkk_p",
        "outputId": "13cdbb1f-6708-4463-c3e7-d5e3ae2299a4"
      },
      "outputs": [
        {
          "output_type": "stream",
          "name": "stdout",
          "text": [
            "📥 Downloading Google Speech Commands dataset...\n",
            "Dataset info: https://arxiv.org/abs/1804.03209\n",
            "Downloading from: https://storage.googleapis.com/download.tensorflow.org/data/speech_commands_v0.02.tar.gz\n",
            "Size: ~2GB - this may take several minutes...\n",
            "Download progress: 100.0%\n",
            "✅ Download complete\n",
            "📦 Extracting dataset...\n",
            "✅ Dataset extraction complete\n",
            "Found 36 command categories\n"
          ]
        },
        {
          "output_type": "execute_result",
          "data": {
            "text/plain": [
              "True"
            ]
          },
          "metadata": {},
          "execution_count": 3
        }
      ],
      "source": [
        "def download_speech_commands(data_path=\"./speech_commands_data\"):\n",
        "    \"\"\"\n",
        "    Download and extract Google Speech Commands dataset v0.02\n",
        "\n",
        "    Returns:\n",
        "        bool: True if successful, False otherwise\n",
        "    \"\"\"\n",
        "    data_path = Path(data_path)\n",
        "\n",
        "    if data_path.exists() and any(data_path.iterdir()):\n",
        "        print(\"✅ Dataset already exists\")\n",
        "        return True\n",
        "\n",
        "    print(\"📥 Downloading Google Speech Commands dataset...\")\n",
        "    print(\"Dataset info: https://arxiv.org/abs/1804.03209\")\n",
        "\n",
        "    url = \"https://storage.googleapis.com/download.tensorflow.org/data/speech_commands_v0.02.tar.gz\"\n",
        "    tar_path = data_path.parent / \"speech_commands_v0.02.tar.gz\"\n",
        "\n",
        "    try:\n",
        "        # Create directory\n",
        "        data_path.mkdir(parents=True, exist_ok=True)\n",
        "\n",
        "        # Download with progress\n",
        "        print(f\"Downloading from: {url}\")\n",
        "        print(\"Size: ~2GB - this may take several minutes...\")\n",
        "\n",
        "        def progress_hook(block_num, block_size, total_size):\n",
        "            downloaded = block_num * block_size\n",
        "            if total_size > 0:\n",
        "                percent = min(100, downloaded * 100 / total_size)\n",
        "                print(f\"\\rDownload progress: {percent:.1f}%\", end=\"\", flush=True)\n",
        "\n",
        "        urllib.request.urlretrieve(url, tar_path, reporthook=progress_hook)\n",
        "        print(\"\\n✅ Download complete\")\n",
        "\n",
        "        # Extract\n",
        "        print(\"📦 Extracting dataset...\")\n",
        "        with tarfile.open(tar_path, \"r:gz\") as tar:\n",
        "            tar.extractall(data_path)\n",
        "\n",
        "        # Cleanup\n",
        "        tar_path.unlink()\n",
        "        print(\"✅ Dataset extraction complete\")\n",
        "\n",
        "        # Verify\n",
        "        commands_found = [d.name for d in data_path.iterdir() if d.is_dir()]\n",
        "        print(f\"Found {len(commands_found)} command categories\")\n",
        "\n",
        "        return True\n",
        "\n",
        "    except Exception as e:\n",
        "        print(f\"❌ Error downloading dataset: {e}\")\n",
        "        print(\"\\nManual download instructions:\")\n",
        "        print(\n",
        "            \"1. Download: https://storage.googleapis.com/download.tensorflow.org/data/speech_commands_v0.02.tar.gz\"\n",
        "        )\n",
        "        print(f\"2. Extract to: {data_path}\")\n",
        "        return False\n",
        "\n",
        "# Run the download and extraction process.\n",
        "download_speech_commands(data_path=\"./speech_commands_data\")"
      ]
    },
    {
      "cell_type": "code",
      "execution_count": null,
      "metadata": {
        "colab": {
          "base_uri": "https://localhost:8080/"
        },
        "id": "oyvTzjMsvG4U",
        "outputId": "4a4a835c-938a-4cb4-d698-9d352907c642"
      },
      "outputs": [
        {
          "output_type": "stream",
          "name": "stdout",
          "text": [
            "Number of training files: 30769\n",
            "Number of validation files: 3703\n",
            "Number of testing files: 4074\n"
          ]
        }
      ],
      "source": [
        "# Define the 10 core commands\n",
        "commands = ['yes', 'no', 'up', 'down', 'left', 'right', 'on', 'off', 'stop', 'go']\n",
        "\n",
        "# Define the data path\n",
        "data_path = Path(\"./speech_commands_data\")\n",
        "\n",
        "# Read validation and testing lists\n",
        "with open(data_path / 'validation_list.txt', 'r') as f:\n",
        "    val_rel_paths = set(f.read().splitlines())\n",
        "with open(data_path / 'testing_list.txt', 'r') as f:\n",
        "    test_rel_paths = set(f.read().splitlines())\n",
        "\n",
        "# Get all .wav files in the 10 command directories\n",
        "all_files = []\n",
        "for command in commands:\n",
        "    command_dir = data_path / command\n",
        "    wav_files = list(command_dir.glob('*.wav'))\n",
        "    all_files.extend(wav_files)\n",
        "\n",
        "# Assign files to train, val, test\n",
        "train_files = []\n",
        "val_files = []\n",
        "test_files = []\n",
        "for file in all_files:\n",
        "    rel_path = str(file.relative_to(data_path))\n",
        "    if rel_path in val_rel_paths:\n",
        "        val_files.append(file)\n",
        "    elif rel_path in test_rel_paths:\n",
        "        test_files.append(file)\n",
        "    else:\n",
        "        train_files.append(file)\n",
        "\n",
        "print(f\"Number of training files: {len(train_files)}\")\n",
        "print(f\"Number of validation files: {len(val_files)}\")\n",
        "print(f\"Number of testing files: {len(test_files)}\")\n",
        "\n",
        "# Define label map\n",
        "label_map = {command: i for i, command in enumerate(commands)}"
      ]
    },
    {
      "cell_type": "code",
      "execution_count": null,
      "metadata": {
        "colab": {
          "base_uri": "https://localhost:8080/"
        },
        "id": "ueyWEFcCAVYr",
        "outputId": "85c54c97-1702-48ac-8fcc-221e0af42e18"
      },
      "outputs": [
        {
          "output_type": "stream",
          "name": "stderr",
          "text": [
            "Computing MFCCs: 100%|██████████| 30769/30769 [03:12<00:00, 159.80it/s]\n",
            "Computing MFCCs: 100%|██████████| 3703/3703 [00:22<00:00, 167.19it/s]\n",
            "Computing MFCCs: 100%|██████████| 4074/4074 [00:24<00:00, 168.77it/s]\n"
          ]
        },
        {
          "output_type": "stream",
          "name": "stdout",
          "text": [
            "MFCCs saved to Google Drive.\n"
          ]
        }
      ],
      "source": [
        "# Define MFCC transform\n",
        "mfcc_transform = torchaudio.transforms.MFCC(\n",
        "    sample_rate=16000,\n",
        "    n_mfcc=20,\n",
        "    melkwargs={'n_fft': 400, 'hop_length': 160, 'n_mels': 40}\n",
        ")\n",
        "\n",
        "# Function to compute MFCCs\n",
        "def compute_mfccs(file_list, label_map, transform):\n",
        "    mfccs = []\n",
        "    labels = []\n",
        "    max_len = 0\n",
        "\n",
        "    # Compute all MFCCs and find the max sequence length\n",
        "    for file in tqdm(file_list, desc=\"Computing MFCCs\"):\n",
        "        waveform, sr = torchaudio.load(file)\n",
        "        if sr != 16000:\n",
        "            print(f\"Warning: sample rate {sr} for {file}\")\n",
        "        mfcc = transform(waveform).squeeze(0).transpose(0, 1)  # Shape: (seq_len, n_mfcc)\n",
        "        max_len = max(max_len, mfcc.shape[0])\n",
        "        mfccs.append(mfcc)\n",
        "        labels.append(label_map[file.parent.name])\n",
        "\n",
        "    # Pad all to max_len\n",
        "    padded_mfccs = []\n",
        "    for mfcc in mfccs:\n",
        "        padded = F.pad(mfcc, (0, 0, 0, max_len - mfcc.shape[0]))\n",
        "        padded_mfccs.append(padded)\n",
        "\n",
        "    mfccs_tensor = torch.stack(padded_mfccs)  # Shape: (num_samples, seq_len, n_mfcc)\n",
        "    labels_tensor = torch.tensor(labels)  # Shape: (num_samples,)\n",
        "    return mfccs_tensor, labels_tensor\n",
        "\n",
        "# Compute MFCCs for each split\n",
        "train_mfccs, train_labels = compute_mfccs(train_files, label_map, mfcc_transform)\n",
        "val_mfccs, val_labels = compute_mfccs(val_files, label_map, mfcc_transform)\n",
        "test_mfccs, test_labels = compute_mfccs(test_files, label_map, mfcc_transform)\n",
        "\n",
        "# Save to Google Drive\n",
        "save_path = Path('/content/drive/MyDrive/speech_commands_mfccs')\n",
        "save_path.mkdir(parents=True, exist_ok=True)\n",
        "torch.save({'mfccs': train_mfccs, 'labels': train_labels}, save_path / 'train.pt')\n",
        "torch.save({'mfccs': val_mfccs, 'labels': val_labels}, save_path / 'val.pt')\n",
        "torch.save({'mfccs': test_mfccs, 'labels': test_labels}, save_path / 'test.pt')\n",
        "print(\"MFCCs saved to Google Drive.\")"
      ]
    },
    {
      "cell_type": "code",
      "source": [
        "# Load the precomputed MFCCs from Google Drive\n",
        "save_path = '/content/drive/MyDrive/speech_commands_mfccs'\n",
        "train_data = torch.load(f'{save_path}/train.pt')\n",
        "val_data = torch.load(f'{save_path}/val.pt')\n",
        "test_data = torch.load(f'{save_path}/test.pt')\n",
        "\n",
        "train_mfccs, train_labels = train_data['mfccs'], train_data['labels']\n",
        "val_mfccs, val_labels = val_data['mfccs'], val_data['labels']\n",
        "test_mfccs, test_labels = test_data['mfccs'], test_data['labels']\n",
        "\n",
        "print(f\"Train MFCCs shape: {train_mfccs.shape}, Labels shape: {train_labels.shape}\")\n",
        "print(f\"Val MFCCs shape: {val_mfccs.shape}, Labels shape: {val_labels.shape}\")\n",
        "print(f\"Test MFCCs shape: {test_mfccs.shape}, Labels shape: {test_labels.shape}\")"
      ],
      "metadata": {
        "id": "x2bezAgaxuCU",
        "colab": {
          "base_uri": "https://localhost:8080/"
        },
        "outputId": "02d597ed-1db0-4b90-eba4-d318096a869f"
      },
      "execution_count": null,
      "outputs": [
        {
          "output_type": "stream",
          "name": "stdout",
          "text": [
            "Train MFCCs shape: torch.Size([30769, 101, 20]), Labels shape: torch.Size([30769])\n",
            "Val MFCCs shape: torch.Size([3703, 101, 20]), Labels shape: torch.Size([3703])\n",
            "Test MFCCs shape: torch.Size([4074, 101, 20]), Labels shape: torch.Size([4074])\n"
          ]
        }
      ]
    },
    {
      "cell_type": "code",
      "source": [
        "# Prepare DataLoaders\n",
        "batch_size = 64\n",
        "train_dataset = TensorDataset(train_mfccs, train_labels)\n",
        "val_dataset = TensorDataset(val_mfccs, val_labels)\n",
        "test_dataset = TensorDataset(test_mfccs, test_labels)\n",
        "\n",
        "train_loader = DataLoader(train_dataset, batch_size=batch_size, shuffle=True)\n",
        "val_loader = DataLoader(val_dataset, batch_size=batch_size, shuffle=False)\n",
        "test_loader = DataLoader(test_dataset, batch_size=batch_size, shuffle=False)"
      ],
      "metadata": {
        "id": "48VIIB9m9tmG"
      },
      "execution_count": null,
      "outputs": []
    },
    {
      "cell_type": "code",
      "source": [
        "# Define the Vanilla RNN model\n",
        "class VanillaRNN(nn.Module):\n",
        "    def __init__(self, input_size, hidden_size, num_layers, output_size, dropout):\n",
        "        super(VanillaRNN, self).__init__()\n",
        "        self.rnn = nn.RNN(input_size, hidden_size, num_layers, batch_first=True, nonlinearity='relu', dropout=dropout)\n",
        "        self.fc = nn.Linear(hidden_size, output_size)\n",
        "\n",
        "    def forward(self, x):\n",
        "        _, hn = self.rnn(x)\n",
        "        out = self.fc(hn[-1])\n",
        "        return out"
      ],
      "metadata": {
        "id": "mlfUoWAcfdr7"
      },
      "execution_count": null,
      "outputs": []
    },
    {
      "cell_type": "code",
      "source": [
        "# Initialize model and move to GPU if available\n",
        "device = torch.device('cuda' if torch.cuda.is_available() else 'cpu')\n",
        "model = VanillaRNN(input_size=20, hidden_size=128, num_layers=3, output_size=10, dropout=0.25).to(device)\n",
        "\n",
        "print(model)"
      ],
      "metadata": {
        "colab": {
          "base_uri": "https://localhost:8080/"
        },
        "id": "irzOidhwgLCr",
        "outputId": "5c30f17a-cd32-498f-f632-f78e3870fcf2"
      },
      "execution_count": null,
      "outputs": [
        {
          "output_type": "stream",
          "name": "stdout",
          "text": [
            "VanillaRNN(\n",
            "  (rnn): RNN(20, 128, num_layers=3, batch_first=True, dropout=0.25)\n",
            "  (fc): Linear(in_features=128, out_features=10, bias=True)\n",
            ")\n"
          ]
        }
      ]
    },
    {
      "cell_type": "code",
      "source": [
        "# Train the model\n",
        "learning_rate = 0.001\n",
        "num_epochs = 200\n",
        "patience = 10\n",
        "clip_value = 1.0\n",
        "criterion = nn.CrossEntropyLoss()\n",
        "optimizer = optim.Adam(model.parameters(), lr=learning_rate)\n",
        "scheduler = optim.lr_scheduler.ReduceLROnPlateau(optimizer, mode='min', factor=0.5, patience=3)\n",
        "\n",
        "best_val_loss = float('inf')\n",
        "early_stop_counter = 0\n",
        "\n",
        "model_save_path = Path('/content/drive/MyDrive/VanillaRNN')\n",
        "model_save_path.mkdir(parents=True, exist_ok=True)\n",
        "\n",
        "# Lists to store metrics\n",
        "train_losses = []\n",
        "val_losses = []\n",
        "train_accuracies = []\n",
        "val_accuracies = []\n",
        "\n",
        "for epoch in range(num_epochs):\n",
        "    model.train()\n",
        "    running_loss = 0.0\n",
        "    train_correct = 0\n",
        "    train_total = 0\n",
        "    for mfccs, labels in train_loader:\n",
        "        mfccs, labels = mfccs.to(device), labels.to(device)\n",
        "        optimizer.zero_grad()\n",
        "        outputs = model(mfccs)\n",
        "        loss = criterion(outputs, labels)\n",
        "        loss.backward()\n",
        "        torch.nn.utils.clip_grad_norm_(model.parameters(), clip_value)\n",
        "        optimizer.step()\n",
        "        running_loss += loss.item()\n",
        "        _, predicted = torch.max(outputs, 1)\n",
        "        train_total += labels.size(0)\n",
        "        train_correct += (predicted == labels).sum().item()\n",
        "\n",
        "    train_accuracy = 100 * train_correct / train_total\n",
        "\n",
        "    model.eval()\n",
        "    val_loss = 0.0\n",
        "    val_correct = 0\n",
        "    val_total = 0\n",
        "    with torch.no_grad():\n",
        "        for mfccs, labels in val_loader:\n",
        "            mfccs, labels = mfccs.to(device), labels.to(device)\n",
        "            outputs = model(mfccs)\n",
        "            loss = criterion(outputs, labels)\n",
        "            val_loss += loss.item()\n",
        "            _, predicted = torch.max(outputs, 1)\n",
        "            val_total += labels.size(0)\n",
        "            val_correct += (predicted == labels).sum().item()\n",
        "\n",
        "    val_accuracy = 100 * val_correct / val_total\n",
        "\n",
        "    avg_val_loss = val_loss / len(val_loader)\n",
        "    avg_train_loss = running_loss / len(train_loader)\n",
        "\n",
        "    # Store metrics for plotting\n",
        "    train_losses.append(avg_train_loss)\n",
        "    val_losses.append(avg_val_loss)\n",
        "    train_accuracies.append(train_accuracy)\n",
        "    val_accuracies.append(val_accuracy)\n",
        "\n",
        "    print(f'Epoch [{epoch+1}/{num_epochs}], '\n",
        "          f'Train Loss: {avg_train_loss:.4f}, '\n",
        "          f'Train Accuracy: {train_accuracy:.2f}%, '\n",
        "          f'Val Loss: {avg_val_loss:.4f}, '\n",
        "          f'Val Accuracy: {val_accuracy:.2f}%')\n",
        "\n",
        "    # Learning rate scheduling\n",
        "    scheduler.step(avg_val_loss)\n",
        "\n",
        "    # Early stopping\n",
        "    if avg_val_loss < best_val_loss:\n",
        "        best_val_loss = avg_val_loss\n",
        "        early_stop_counter = 0\n",
        "        torch.save(model.state_dict(), model_save_path / 'RNN_3L_128HUs.pth')\n",
        "    else:\n",
        "        early_stop_counter += 1\n",
        "        if early_stop_counter >= patience:\n",
        "            print(f'Early stopping at epoch {epoch+1}')\n",
        "            break\n",
        "\n",
        "\n",
        "# Plot training and validation metrics\n",
        "plt.figure(figsize=(12, 5))\n",
        "\n",
        "plt.subplot(1, 2, 1)\n",
        "plt.plot(train_losses, label='Train Loss')\n",
        "plt.plot(val_losses, label='Validation Loss')\n",
        "plt.xlabel('Epoch')\n",
        "plt.ylabel('Loss')\n",
        "plt.title('Loss Over Epochs')\n",
        "plt.legend()\n",
        "\n",
        "plt.subplot(1, 2, 2)\n",
        "plt.plot(train_accuracies, label='Train Accuracy')\n",
        "plt.plot(val_accuracies, label='Validation Accuracy')\n",
        "plt.xlabel('Epoch')\n",
        "plt.ylabel('Accuracy (%)')\n",
        "plt.title('Accuracy Over Epochs')\n",
        "plt.legend()\n",
        "\n",
        "plt.tight_layout()\n",
        "plt.show()"
      ],
      "metadata": {
        "id": "rpfzGgdMf-pi",
        "colab": {
          "base_uri": "https://localhost:8080/",
          "height": 1000
        },
        "outputId": "cdb11894-4e60-412c-acb8-99edcb49e24e"
      },
      "execution_count": null,
      "outputs": [
        {
          "output_type": "stream",
          "name": "stdout",
          "text": [
            "Epoch [1/200], Train Loss: 2.2150, Train Accuracy: 16.48%, Val Loss: 2.0609, Val Accuracy: 21.71%\n",
            "Epoch [2/200], Train Loss: 2.0396, Train Accuracy: 22.93%, Val Loss: 2.1084, Val Accuracy: 17.96%\n",
            "Epoch [3/200], Train Loss: 1.9822, Train Accuracy: 24.51%, Val Loss: 1.9098, Val Accuracy: 25.76%\n",
            "Epoch [4/200], Train Loss: 1.9252, Train Accuracy: 26.19%, Val Loss: 1.8638, Val Accuracy: 27.14%\n",
            "Epoch [5/200], Train Loss: 1.8279, Train Accuracy: 30.31%, Val Loss: 1.7448, Val Accuracy: 31.30%\n",
            "Epoch [6/200], Train Loss: 1.7932, Train Accuracy: 32.65%, Val Loss: 1.8406, Val Accuracy: 35.84%\n",
            "Epoch [7/200], Train Loss: 1.6927, Train Accuracy: 37.26%, Val Loss: 1.8090, Val Accuracy: 35.35%\n",
            "Epoch [8/200], Train Loss: 1.6065, Train Accuracy: 41.28%, Val Loss: 1.5191, Val Accuracy: 44.13%\n",
            "Epoch [9/200], Train Loss: 1.6055, Train Accuracy: 40.46%, Val Loss: 1.6806, Val Accuracy: 37.67%\n",
            "Epoch [10/200], Train Loss: 1.5951, Train Accuracy: 40.57%, Val Loss: 1.4478, Val Accuracy: 44.48%\n",
            "Epoch [11/200], Train Loss: 1.5610, Train Accuracy: 41.92%, Val Loss: 1.4820, Val Accuracy: 46.02%\n",
            "Epoch [12/200], Train Loss: 1.4898, Train Accuracy: 45.08%, Val Loss: 1.4937, Val Accuracy: 44.29%\n",
            "Epoch [13/200], Train Loss: 1.5420, Train Accuracy: 44.02%, Val Loss: 1.5630, Val Accuracy: 42.61%\n",
            "Epoch [14/200], Train Loss: 1.5197, Train Accuracy: 45.23%, Val Loss: 1.5989, Val Accuracy: 40.02%\n",
            "Epoch [15/200], Train Loss: 1.4066, Train Accuracy: 49.35%, Val Loss: 1.3343, Val Accuracy: 52.17%\n",
            "Epoch [16/200], Train Loss: 1.3273, Train Accuracy: 52.95%, Val Loss: 1.2603, Val Accuracy: 54.74%\n",
            "Epoch [17/200], Train Loss: 1.2939, Train Accuracy: 52.98%, Val Loss: 1.2495, Val Accuracy: 55.06%\n",
            "Epoch [18/200], Train Loss: 1.2270, Train Accuracy: 56.37%, Val Loss: 1.1483, Val Accuracy: 58.76%\n",
            "Epoch [19/200], Train Loss: 1.1679, Train Accuracy: 59.21%, Val Loss: 1.2079, Val Accuracy: 57.90%\n",
            "Epoch [20/200], Train Loss: 1.1422, Train Accuracy: 61.08%, Val Loss: 1.0965, Val Accuracy: 64.00%\n",
            "Epoch [21/200], Train Loss: 1.0912, Train Accuracy: 64.21%, Val Loss: 1.0112, Val Accuracy: 67.22%\n",
            "Epoch [22/200], Train Loss: 1.0900, Train Accuracy: 63.34%, Val Loss: 1.0257, Val Accuracy: 66.08%\n",
            "Epoch [23/200], Train Loss: 1.0557, Train Accuracy: 64.80%, Val Loss: 1.0055, Val Accuracy: 65.70%\n",
            "Epoch [24/200], Train Loss: 1.0238, Train Accuracy: 65.38%, Val Loss: 1.0769, Val Accuracy: 62.76%\n",
            "Epoch [25/200], Train Loss: 1.0028, Train Accuracy: 66.72%, Val Loss: 0.9428, Val Accuracy: 69.00%\n",
            "Epoch [26/200], Train Loss: 0.9747, Train Accuracy: 67.51%, Val Loss: 0.9542, Val Accuracy: 68.89%\n",
            "Epoch [27/200], Train Loss: 0.9433, Train Accuracy: 69.20%, Val Loss: 0.8876, Val Accuracy: 72.35%\n",
            "Epoch [28/200], Train Loss: 0.9122, Train Accuracy: 69.79%, Val Loss: 0.8971, Val Accuracy: 70.89%\n",
            "Epoch [29/200], Train Loss: 0.9057, Train Accuracy: 69.79%, Val Loss: 0.8919, Val Accuracy: 72.00%\n",
            "Epoch [30/200], Train Loss: 0.9067, Train Accuracy: 69.02%, Val Loss: 0.9660, Val Accuracy: 67.59%\n",
            "Epoch [31/200], Train Loss: 0.8739, Train Accuracy: 70.15%, Val Loss: 0.8182, Val Accuracy: 72.78%\n",
            "Epoch [32/200], Train Loss: 0.8512, Train Accuracy: 70.70%, Val Loss: 0.9330, Val Accuracy: 68.81%\n",
            "Epoch [33/200], Train Loss: 0.8543, Train Accuracy: 70.93%, Val Loss: 0.8679, Val Accuracy: 71.43%\n",
            "Epoch [34/200], Train Loss: 0.8022, Train Accuracy: 73.28%, Val Loss: 0.8689, Val Accuracy: 72.91%\n",
            "Epoch [35/200], Train Loss: 0.7989, Train Accuracy: 73.18%, Val Loss: 0.7768, Val Accuracy: 75.53%\n",
            "Epoch [36/200], Train Loss: 0.7821, Train Accuracy: 73.44%, Val Loss: 0.8172, Val Accuracy: 72.94%\n",
            "Epoch [37/200], Train Loss: 0.8077, Train Accuracy: 72.57%, Val Loss: 0.8372, Val Accuracy: 72.24%\n",
            "Epoch [38/200], Train Loss: 0.7552, Train Accuracy: 74.68%, Val Loss: 0.7682, Val Accuracy: 76.07%\n",
            "Epoch [39/200], Train Loss: 0.7450, Train Accuracy: 75.00%, Val Loss: 0.7891, Val Accuracy: 73.32%\n",
            "Epoch [40/200], Train Loss: 0.7287, Train Accuracy: 74.78%, Val Loss: 0.7236, Val Accuracy: 77.10%\n",
            "Epoch [41/200], Train Loss: 0.7371, Train Accuracy: 75.07%, Val Loss: 0.8381, Val Accuracy: 74.35%\n",
            "Epoch [42/200], Train Loss: 0.7063, Train Accuracy: 76.38%, Val Loss: 0.6755, Val Accuracy: 78.64%\n",
            "Epoch [43/200], Train Loss: 0.6710, Train Accuracy: 78.27%, Val Loss: 0.7135, Val Accuracy: 78.18%\n",
            "Epoch [44/200], Train Loss: 0.6868, Train Accuracy: 77.79%, Val Loss: 0.6852, Val Accuracy: 78.07%\n",
            "Epoch [45/200], Train Loss: 0.6758, Train Accuracy: 78.66%, Val Loss: 0.6714, Val Accuracy: 79.13%\n",
            "Epoch [46/200], Train Loss: 0.6636, Train Accuracy: 77.94%, Val Loss: 0.6483, Val Accuracy: 78.96%\n",
            "Epoch [47/200], Train Loss: 0.6572, Train Accuracy: 79.28%, Val Loss: 0.6844, Val Accuracy: 77.50%\n",
            "Epoch [48/200], Train Loss: 0.6561, Train Accuracy: 78.91%, Val Loss: 0.6616, Val Accuracy: 79.72%\n",
            "Epoch [49/200], Train Loss: 0.6183, Train Accuracy: 80.23%, Val Loss: 0.6522, Val Accuracy: 79.99%\n",
            "Epoch [50/200], Train Loss: 0.6055, Train Accuracy: 80.81%, Val Loss: 0.5761, Val Accuracy: 82.61%\n",
            "Epoch [51/200], Train Loss: 0.5833, Train Accuracy: 81.79%, Val Loss: 0.6028, Val Accuracy: 82.66%\n",
            "Epoch [52/200], Train Loss: 0.5594, Train Accuracy: 83.08%, Val Loss: 0.5392, Val Accuracy: 84.85%\n",
            "Epoch [53/200], Train Loss: 0.5466, Train Accuracy: 83.51%, Val Loss: 0.5962, Val Accuracy: 83.36%\n",
            "Epoch [54/200], Train Loss: 0.5407, Train Accuracy: 83.91%, Val Loss: 0.5832, Val Accuracy: 83.28%\n",
            "Epoch [55/200], Train Loss: 0.5273, Train Accuracy: 84.42%, Val Loss: 0.5469, Val Accuracy: 84.26%\n",
            "Epoch [56/200], Train Loss: 0.5153, Train Accuracy: 84.71%, Val Loss: 0.5596, Val Accuracy: 85.31%\n",
            "Epoch [57/200], Train Loss: 0.4416, Train Accuracy: 86.83%, Val Loss: 0.4637, Val Accuracy: 86.63%\n",
            "Epoch [58/200], Train Loss: 0.4238, Train Accuracy: 87.40%, Val Loss: 0.4728, Val Accuracy: 87.17%\n",
            "Epoch [59/200], Train Loss: 0.4051, Train Accuracy: 87.97%, Val Loss: 0.4571, Val Accuracy: 87.09%\n",
            "Epoch [60/200], Train Loss: 0.3945, Train Accuracy: 88.15%, Val Loss: 0.4440, Val Accuracy: 87.58%\n",
            "Epoch [61/200], Train Loss: 0.3898, Train Accuracy: 88.35%, Val Loss: 0.4455, Val Accuracy: 88.17%\n",
            "Epoch [62/200], Train Loss: 0.3845, Train Accuracy: 88.54%, Val Loss: 0.4592, Val Accuracy: 87.63%\n",
            "Epoch [63/200], Train Loss: 0.3730, Train Accuracy: 88.79%, Val Loss: 0.4440, Val Accuracy: 88.01%\n",
            "Epoch [64/200], Train Loss: 0.3735, Train Accuracy: 88.75%, Val Loss: 0.4857, Val Accuracy: 87.47%\n",
            "Epoch [65/200], Train Loss: 0.3314, Train Accuracy: 89.92%, Val Loss: 0.4439, Val Accuracy: 88.95%\n",
            "Epoch [66/200], Train Loss: 0.3253, Train Accuracy: 90.14%, Val Loss: 0.4555, Val Accuracy: 88.23%\n",
            "Epoch [67/200], Train Loss: 0.3207, Train Accuracy: 90.14%, Val Loss: 0.4443, Val Accuracy: 88.85%\n",
            "Epoch [68/200], Train Loss: 0.3119, Train Accuracy: 90.52%, Val Loss: 0.4691, Val Accuracy: 89.31%\n",
            "Epoch [69/200], Train Loss: 0.2953, Train Accuracy: 91.01%, Val Loss: 0.4109, Val Accuracy: 89.22%\n",
            "Epoch [70/200], Train Loss: 0.2923, Train Accuracy: 91.09%, Val Loss: 0.4516, Val Accuracy: 89.33%\n",
            "Epoch [71/200], Train Loss: 0.2914, Train Accuracy: 90.96%, Val Loss: 0.4550, Val Accuracy: 89.52%\n",
            "Epoch [72/200], Train Loss: 0.2833, Train Accuracy: 91.30%, Val Loss: 0.4433, Val Accuracy: 89.63%\n",
            "Epoch [73/200], Train Loss: 0.2846, Train Accuracy: 91.36%, Val Loss: 0.4664, Val Accuracy: 88.90%\n",
            "Epoch [74/200], Train Loss: 0.2727, Train Accuracy: 91.57%, Val Loss: 0.4560, Val Accuracy: 89.31%\n",
            "Epoch [75/200], Train Loss: 0.2703, Train Accuracy: 91.64%, Val Loss: 0.4594, Val Accuracy: 89.55%\n",
            "Epoch [76/200], Train Loss: 0.2679, Train Accuracy: 91.82%, Val Loss: 0.4659, Val Accuracy: 89.22%\n",
            "Epoch [77/200], Train Loss: 0.2654, Train Accuracy: 91.87%, Val Loss: 0.4641, Val Accuracy: 89.39%\n",
            "Epoch [78/200], Train Loss: 0.2644, Train Accuracy: 91.79%, Val Loss: 0.4551, Val Accuracy: 89.55%\n",
            "Epoch [79/200], Train Loss: 0.2617, Train Accuracy: 91.80%, Val Loss: 0.4521, Val Accuracy: 89.74%\n",
            "Early stopping at epoch 79\n"
          ]
        },
        {
          "output_type": "display_data",
          "data": {
            "text/plain": [
              "<Figure size 1200x500 with 2 Axes>"
            ],
            "image/png": "[encoded data removed]"
          },
          "metadata": {}
        }
      ]
    },
    {
      "cell_type": "code",
      "source": [
        "# Load the model\n",
        "model_save_path = Path('/content/drive/MyDrive/VanillaRNN')\n",
        "model.load_state_dict(torch.load(f'{model_save_path}/RNN_3L_128HUs.pth'))\n",
        "\n",
        "\n",
        "model.to(device)\n",
        "\n",
        "\n",
        "# Evaluate the model\n",
        "def evaluate_model(model, test_loader, device):\n",
        "    model.eval()\n",
        "    correct = 0\n",
        "    total = 0\n",
        "    with torch.no_grad():\n",
        "        for mfccs, labels in test_loader:\n",
        "            mfccs, labels = mfccs.to(device), labels.to(device)\n",
        "            outputs = model(mfccs)\n",
        "            _, predicted = torch.max(outputs, 1)\n",
        "            total += labels.size(0)\n",
        "            correct += (predicted == labels).sum().item()\n",
        "    accuracy = 100 * correct / total\n",
        "    return accuracy\n",
        "\n",
        "test_accuracy = evaluate_model(model, test_loader, device)\n",
        "print(f'Model Test Accuracy: {test_accuracy:.2f}%')"
      ],
      "metadata": {
        "id": "Q0sUa_zJgea6",
        "colab": {
          "base_uri": "https://localhost:8080/"
        },
        "outputId": "5a8d5803-46c0-4792-d6a7-5615729cc3ad"
      },
      "execution_count": null,
      "outputs": [
        {
          "output_type": "stream",
          "name": "stdout",
          "text": [
            "Model Test Accuracy: 88.22%\n"
          ]
        }
      ]
    },
    {
      "cell_type": "code",
      "source": [],
      "metadata": {
        "id": "BZZB0RxRGtWC"
      },
      "execution_count": null,
      "outputs": []
    }
  ],
  "metadata": {
    "colab": {
      "provenance": [],
      "gpuType": "T4"
    },
    "kernelspec": {
      "display_name": "Python 3",
      "name": "python3"
    },
    "language_info": {
      "name": "python"
    },
    "accelerator": "GPU"
  },
  "nbformat": 4,
  "nbformat_minor": 0
}